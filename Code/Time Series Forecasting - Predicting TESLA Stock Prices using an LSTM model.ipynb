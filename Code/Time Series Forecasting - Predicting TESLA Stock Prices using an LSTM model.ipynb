{
 "cells": [
  {
   "cell_type": "markdown",
   "id": "28b24667",
   "metadata": {},
   "source": [
    "# TIME SERIES FORECASTING: PREDICTING TESLA STOCK PRICES USING AN LSTM MODEL."
   ]
  },
  {
   "cell_type": "markdown",
   "id": "e7430ec4",
   "metadata": {},
   "source": [
    "## STEP 1 - Importing Libraries"
   ]
  },
  {
   "cell_type": "code",
   "execution_count": 233,
   "id": "2a976db0",
   "metadata": {},
   "outputs": [
    {
     "name": "stdout",
     "output_type": "stream",
     "text": [
      "Populating the interactive namespace from numpy and matplotlib\n"
     ]
    }
   ],
   "source": [
    "# Basic Libraries\n",
    "import math\n",
    "import matplotlib.pyplot as plt\n",
    "import seaborn as sns\n",
    "import tensorflow.keras\n",
    "import pandas as pd\n",
    "import numpy as np\n",
    "from sklearn import preprocessing\n",
    "from sklearn.model_selection import train_test_split\n",
    "from sklearn.preprocessing import MinMaxScaler\n",
    "from sklearn.metrics import mean_absolute_error, mean_squared_error\n",
    "\n",
    "%matplotlib inline\n",
    "%pylab inline\n",
    "\n",
    "# Classification & Model Libaries\n",
    "from tensorflow.keras.models import Sequential\n",
    "from tensorflow.keras.layers import Dense, LSTM, Dropout\n",
    "from tensorflow.keras.optimizers import Adam\n",
    "from tensorflow.keras.callbacks import EarlyStopping"
   ]
  },
  {
   "cell_type": "markdown",
   "id": "ffcfcfa5",
   "metadata": {},
   "source": [
    "## STEP 2 - Loading the Dataset and analysing it"
   ]
  },
  {
   "cell_type": "code",
   "execution_count": 234,
   "id": "49daa64a",
   "metadata": {},
   "outputs": [
    {
     "data": {
      "text/html": [
       "<div>\n",
       "<style scoped>\n",
       "    .dataframe tbody tr th:only-of-type {\n",
       "        vertical-align: middle;\n",
       "    }\n",
       "\n",
       "    .dataframe tbody tr th {\n",
       "        vertical-align: top;\n",
       "    }\n",
       "\n",
       "    .dataframe thead th {\n",
       "        text-align: right;\n",
       "    }\n",
       "</style>\n",
       "<table border=\"1\" class=\"dataframe\">\n",
       "  <thead>\n",
       "    <tr style=\"text-align: right;\">\n",
       "      <th></th>\n",
       "      <th>Date</th>\n",
       "      <th>Open</th>\n",
       "      <th>High</th>\n",
       "      <th>Low</th>\n",
       "      <th>Close</th>\n",
       "      <th>Adj Close</th>\n",
       "      <th>Volume</th>\n",
       "    </tr>\n",
       "  </thead>\n",
       "  <tbody>\n",
       "    <tr>\n",
       "      <th>0</th>\n",
       "      <td>30-06-2011</td>\n",
       "      <td>5.700</td>\n",
       "      <td>5.866</td>\n",
       "      <td>5.680</td>\n",
       "      <td>5.826</td>\n",
       "      <td>5.826</td>\n",
       "      <td>4733500</td>\n",
       "    </tr>\n",
       "    <tr>\n",
       "      <th>1</th>\n",
       "      <td>01-07-2011</td>\n",
       "      <td>5.814</td>\n",
       "      <td>5.920</td>\n",
       "      <td>5.760</td>\n",
       "      <td>5.804</td>\n",
       "      <td>5.804</td>\n",
       "      <td>4274500</td>\n",
       "    </tr>\n",
       "    <tr>\n",
       "      <th>2</th>\n",
       "      <td>05-07-2011</td>\n",
       "      <td>5.804</td>\n",
       "      <td>5.904</td>\n",
       "      <td>5.742</td>\n",
       "      <td>5.828</td>\n",
       "      <td>5.828</td>\n",
       "      <td>4980000</td>\n",
       "    </tr>\n",
       "    <tr>\n",
       "      <th>3</th>\n",
       "      <td>06-07-2011</td>\n",
       "      <td>5.828</td>\n",
       "      <td>5.828</td>\n",
       "      <td>5.710</td>\n",
       "      <td>5.792</td>\n",
       "      <td>5.792</td>\n",
       "      <td>4634500</td>\n",
       "    </tr>\n",
       "    <tr>\n",
       "      <th>4</th>\n",
       "      <td>07-07-2011</td>\n",
       "      <td>5.828</td>\n",
       "      <td>6.000</td>\n",
       "      <td>5.802</td>\n",
       "      <td>5.946</td>\n",
       "      <td>5.946</td>\n",
       "      <td>6639500</td>\n",
       "    </tr>\n",
       "    <tr>\n",
       "      <th>5</th>\n",
       "      <td>08-07-2011</td>\n",
       "      <td>5.978</td>\n",
       "      <td>5.978</td>\n",
       "      <td>5.718</td>\n",
       "      <td>5.762</td>\n",
       "      <td>5.762</td>\n",
       "      <td>6203000</td>\n",
       "    </tr>\n",
       "    <tr>\n",
       "      <th>6</th>\n",
       "      <td>11-07-2011</td>\n",
       "      <td>5.680</td>\n",
       "      <td>5.706</td>\n",
       "      <td>5.600</td>\n",
       "      <td>5.670</td>\n",
       "      <td>5.670</td>\n",
       "      <td>4879000</td>\n",
       "    </tr>\n",
       "    <tr>\n",
       "      <th>7</th>\n",
       "      <td>12-07-2011</td>\n",
       "      <td>5.674</td>\n",
       "      <td>5.818</td>\n",
       "      <td>5.600</td>\n",
       "      <td>5.634</td>\n",
       "      <td>5.634</td>\n",
       "      <td>5227000</td>\n",
       "    </tr>\n",
       "    <tr>\n",
       "      <th>8</th>\n",
       "      <td>13-07-2011</td>\n",
       "      <td>5.686</td>\n",
       "      <td>5.806</td>\n",
       "      <td>5.580</td>\n",
       "      <td>5.728</td>\n",
       "      <td>5.728</td>\n",
       "      <td>5330000</td>\n",
       "    </tr>\n",
       "    <tr>\n",
       "      <th>9</th>\n",
       "      <td>14-07-2011</td>\n",
       "      <td>5.706</td>\n",
       "      <td>5.792</td>\n",
       "      <td>5.450</td>\n",
       "      <td>5.522</td>\n",
       "      <td>5.522</td>\n",
       "      <td>5795000</td>\n",
       "    </tr>\n",
       "  </tbody>\n",
       "</table>\n",
       "</div>"
      ],
      "text/plain": [
       "         Date   Open   High    Low  Close  Adj Close   Volume\n",
       "0  30-06-2011  5.700  5.866  5.680  5.826      5.826  4733500\n",
       "1  01-07-2011  5.814  5.920  5.760  5.804      5.804  4274500\n",
       "2  05-07-2011  5.804  5.904  5.742  5.828      5.828  4980000\n",
       "3  06-07-2011  5.828  5.828  5.710  5.792      5.792  4634500\n",
       "4  07-07-2011  5.828  6.000  5.802  5.946      5.946  6639500\n",
       "5  08-07-2011  5.978  5.978  5.718  5.762      5.762  6203000\n",
       "6  11-07-2011  5.680  5.706  5.600  5.670      5.670  4879000\n",
       "7  12-07-2011  5.674  5.818  5.600  5.634      5.634  5227000\n",
       "8  13-07-2011  5.686  5.806  5.580  5.728      5.728  5330000\n",
       "9  14-07-2011  5.706  5.792  5.450  5.522      5.522  5795000"
      ]
     },
     "execution_count": 234,
     "metadata": {},
     "output_type": "execute_result"
    }
   ],
   "source": [
    "df = pd.read_csv(\"C:/Users/Aniket/Desktop/PERSONAL PROJECTS/Time Series Forecasting - Predicting Stock Prices using an LSTM model/Dataset/TESLA.csv\")\n",
    "df.head(10)"
   ]
  },
  {
   "cell_type": "code",
   "execution_count": 235,
   "id": "52456161",
   "metadata": {},
   "outputs": [
    {
     "name": "stdout",
     "output_type": "stream",
     "text": [
      "(Number of rows, Number of columns):  (2516, 7)\n"
     ]
    }
   ],
   "source": [
    "print(\"(Number of rows, Number of columns): \", df.shape)"
   ]
  },
  {
   "cell_type": "code",
   "execution_count": 236,
   "id": "25b2ec05",
   "metadata": {},
   "outputs": [
    {
     "name": "stdout",
     "output_type": "stream",
     "text": [
      "Dataset Columns:\n",
      "Index(['Date', 'Open', 'High', 'Low', 'Close', 'Adj Close', 'Volume'], dtype='object')\n"
     ]
    }
   ],
   "source": [
    "print(f\"Dataset Columns:\\n{df.columns}\")"
   ]
  },
  {
   "cell_type": "code",
   "execution_count": 237,
   "id": "1d644536",
   "metadata": {},
   "outputs": [
    {
     "name": "stdout",
     "output_type": "stream",
     "text": [
      "<class 'pandas.core.frame.DataFrame'>\n",
      "RangeIndex: 2516 entries, 0 to 2515\n",
      "Data columns (total 7 columns):\n",
      " #   Column     Non-Null Count  Dtype  \n",
      "---  ------     --------------  -----  \n",
      " 0   Date       2516 non-null   object \n",
      " 1   Open       2516 non-null   float64\n",
      " 2   High       2516 non-null   float64\n",
      " 3   Low        2516 non-null   float64\n",
      " 4   Close      2516 non-null   float64\n",
      " 5   Adj Close  2516 non-null   float64\n",
      " 6   Volume     2516 non-null   int64  \n",
      "dtypes: float64(5), int64(1), object(1)\n",
      "memory usage: 137.7+ KB\n"
     ]
    }
   ],
   "source": [
    "df.info()"
   ]
  },
  {
   "cell_type": "code",
   "execution_count": 238,
   "id": "34da9295",
   "metadata": {},
   "outputs": [
    {
     "data": {
      "text/html": [
       "<div>\n",
       "<style scoped>\n",
       "    .dataframe tbody tr th:only-of-type {\n",
       "        vertical-align: middle;\n",
       "    }\n",
       "\n",
       "    .dataframe tbody tr th {\n",
       "        vertical-align: top;\n",
       "    }\n",
       "\n",
       "    .dataframe thead th {\n",
       "        text-align: right;\n",
       "    }\n",
       "</style>\n",
       "<table border=\"1\" class=\"dataframe\">\n",
       "  <thead>\n",
       "    <tr style=\"text-align: right;\">\n",
       "      <th></th>\n",
       "      <th>Open</th>\n",
       "      <th>High</th>\n",
       "      <th>Low</th>\n",
       "      <th>Close</th>\n",
       "      <th>Adj Close</th>\n",
       "      <th>Volume</th>\n",
       "    </tr>\n",
       "  </thead>\n",
       "  <tbody>\n",
       "    <tr>\n",
       "      <th>count</th>\n",
       "      <td>2516.000000</td>\n",
       "      <td>2516.000000</td>\n",
       "      <td>2516.000000</td>\n",
       "      <td>2516.000000</td>\n",
       "      <td>2516.000000</td>\n",
       "      <td>2.516000e+03</td>\n",
       "    </tr>\n",
       "    <tr>\n",
       "      <th>mean</th>\n",
       "      <td>97.773052</td>\n",
       "      <td>99.900342</td>\n",
       "      <td>95.463121</td>\n",
       "      <td>97.818901</td>\n",
       "      <td>97.818901</td>\n",
       "      <td>3.422191e+07</td>\n",
       "    </tr>\n",
       "    <tr>\n",
       "      <th>std</th>\n",
       "      <td>167.251880</td>\n",
       "      <td>171.021091</td>\n",
       "      <td>162.943268</td>\n",
       "      <td>167.302474</td>\n",
       "      <td>167.302474</td>\n",
       "      <td>2.889169e+07</td>\n",
       "    </tr>\n",
       "    <tr>\n",
       "      <th>min</th>\n",
       "      <td>4.386000</td>\n",
       "      <td>4.622000</td>\n",
       "      <td>4.300000</td>\n",
       "      <td>4.390000</td>\n",
       "      <td>4.390000</td>\n",
       "      <td>1.198000e+06</td>\n",
       "    </tr>\n",
       "    <tr>\n",
       "      <th>25%</th>\n",
       "      <td>34.289999</td>\n",
       "      <td>35.184500</td>\n",
       "      <td>33.525500</td>\n",
       "      <td>34.569499</td>\n",
       "      <td>34.569499</td>\n",
       "      <td>1.611375e+07</td>\n",
       "    </tr>\n",
       "    <tr>\n",
       "      <th>50%</th>\n",
       "      <td>47.256000</td>\n",
       "      <td>48.134998</td>\n",
       "      <td>46.435000</td>\n",
       "      <td>47.438000</td>\n",
       "      <td>47.438000</td>\n",
       "      <td>2.752100e+07</td>\n",
       "    </tr>\n",
       "    <tr>\n",
       "      <th>75%</th>\n",
       "      <td>65.383999</td>\n",
       "      <td>66.534002</td>\n",
       "      <td>64.374001</td>\n",
       "      <td>65.573500</td>\n",
       "      <td>65.573500</td>\n",
       "      <td>4.285412e+07</td>\n",
       "    </tr>\n",
       "    <tr>\n",
       "      <th>max</th>\n",
       "      <td>891.380005</td>\n",
       "      <td>900.400024</td>\n",
       "      <td>871.599976</td>\n",
       "      <td>883.090027</td>\n",
       "      <td>883.090027</td>\n",
       "      <td>3.046940e+08</td>\n",
       "    </tr>\n",
       "  </tbody>\n",
       "</table>\n",
       "</div>"
      ],
      "text/plain": [
       "              Open         High          Low        Close    Adj Close  \\\n",
       "count  2516.000000  2516.000000  2516.000000  2516.000000  2516.000000   \n",
       "mean     97.773052    99.900342    95.463121    97.818901    97.818901   \n",
       "std     167.251880   171.021091   162.943268   167.302474   167.302474   \n",
       "min       4.386000     4.622000     4.300000     4.390000     4.390000   \n",
       "25%      34.289999    35.184500    33.525500    34.569499    34.569499   \n",
       "50%      47.256000    48.134998    46.435000    47.438000    47.438000   \n",
       "75%      65.383999    66.534002    64.374001    65.573500    65.573500   \n",
       "max     891.380005   900.400024   871.599976   883.090027   883.090027   \n",
       "\n",
       "             Volume  \n",
       "count  2.516000e+03  \n",
       "mean   3.422191e+07  \n",
       "std    2.889169e+07  \n",
       "min    1.198000e+06  \n",
       "25%    1.611375e+07  \n",
       "50%    2.752100e+07  \n",
       "75%    4.285412e+07  \n",
       "max    3.046940e+08  "
      ]
     },
     "execution_count": 238,
     "metadata": {},
     "output_type": "execute_result"
    }
   ],
   "source": [
    "df.describe()"
   ]
  },
  {
   "cell_type": "code",
   "execution_count": 239,
   "id": "c3796c18",
   "metadata": {},
   "outputs": [
    {
     "data": {
      "text/html": [
       "<div>\n",
       "<style scoped>\n",
       "    .dataframe tbody tr th:only-of-type {\n",
       "        vertical-align: middle;\n",
       "    }\n",
       "\n",
       "    .dataframe tbody tr th {\n",
       "        vertical-align: top;\n",
       "    }\n",
       "\n",
       "    .dataframe thead th {\n",
       "        text-align: right;\n",
       "    }\n",
       "</style>\n",
       "<table border=\"1\" class=\"dataframe\">\n",
       "  <thead>\n",
       "    <tr style=\"text-align: right;\">\n",
       "      <th></th>\n",
       "      <th>Date</th>\n",
       "      <th>Open</th>\n",
       "      <th>High</th>\n",
       "      <th>Low</th>\n",
       "      <th>Close</th>\n",
       "      <th>Adj Close</th>\n",
       "      <th>Volume</th>\n",
       "    </tr>\n",
       "  </thead>\n",
       "  <tbody>\n",
       "    <tr>\n",
       "      <th>0</th>\n",
       "      <td>False</td>\n",
       "      <td>False</td>\n",
       "      <td>False</td>\n",
       "      <td>False</td>\n",
       "      <td>False</td>\n",
       "      <td>False</td>\n",
       "      <td>False</td>\n",
       "    </tr>\n",
       "    <tr>\n",
       "      <th>1</th>\n",
       "      <td>False</td>\n",
       "      <td>False</td>\n",
       "      <td>False</td>\n",
       "      <td>False</td>\n",
       "      <td>False</td>\n",
       "      <td>False</td>\n",
       "      <td>False</td>\n",
       "    </tr>\n",
       "    <tr>\n",
       "      <th>2</th>\n",
       "      <td>False</td>\n",
       "      <td>False</td>\n",
       "      <td>False</td>\n",
       "      <td>False</td>\n",
       "      <td>False</td>\n",
       "      <td>False</td>\n",
       "      <td>False</td>\n",
       "    </tr>\n",
       "    <tr>\n",
       "      <th>3</th>\n",
       "      <td>False</td>\n",
       "      <td>False</td>\n",
       "      <td>False</td>\n",
       "      <td>False</td>\n",
       "      <td>False</td>\n",
       "      <td>False</td>\n",
       "      <td>False</td>\n",
       "    </tr>\n",
       "    <tr>\n",
       "      <th>4</th>\n",
       "      <td>False</td>\n",
       "      <td>False</td>\n",
       "      <td>False</td>\n",
       "      <td>False</td>\n",
       "      <td>False</td>\n",
       "      <td>False</td>\n",
       "      <td>False</td>\n",
       "    </tr>\n",
       "    <tr>\n",
       "      <th>...</th>\n",
       "      <td>...</td>\n",
       "      <td>...</td>\n",
       "      <td>...</td>\n",
       "      <td>...</td>\n",
       "      <td>...</td>\n",
       "      <td>...</td>\n",
       "      <td>...</td>\n",
       "    </tr>\n",
       "    <tr>\n",
       "      <th>2511</th>\n",
       "      <td>False</td>\n",
       "      <td>False</td>\n",
       "      <td>False</td>\n",
       "      <td>False</td>\n",
       "      <td>False</td>\n",
       "      <td>False</td>\n",
       "      <td>False</td>\n",
       "    </tr>\n",
       "    <tr>\n",
       "      <th>2512</th>\n",
       "      <td>False</td>\n",
       "      <td>False</td>\n",
       "      <td>False</td>\n",
       "      <td>False</td>\n",
       "      <td>False</td>\n",
       "      <td>False</td>\n",
       "      <td>False</td>\n",
       "    </tr>\n",
       "    <tr>\n",
       "      <th>2513</th>\n",
       "      <td>False</td>\n",
       "      <td>False</td>\n",
       "      <td>False</td>\n",
       "      <td>False</td>\n",
       "      <td>False</td>\n",
       "      <td>False</td>\n",
       "      <td>False</td>\n",
       "    </tr>\n",
       "    <tr>\n",
       "      <th>2514</th>\n",
       "      <td>False</td>\n",
       "      <td>False</td>\n",
       "      <td>False</td>\n",
       "      <td>False</td>\n",
       "      <td>False</td>\n",
       "      <td>False</td>\n",
       "      <td>False</td>\n",
       "    </tr>\n",
       "    <tr>\n",
       "      <th>2515</th>\n",
       "      <td>False</td>\n",
       "      <td>False</td>\n",
       "      <td>False</td>\n",
       "      <td>False</td>\n",
       "      <td>False</td>\n",
       "      <td>False</td>\n",
       "      <td>False</td>\n",
       "    </tr>\n",
       "  </tbody>\n",
       "</table>\n",
       "<p>2516 rows × 7 columns</p>\n",
       "</div>"
      ],
      "text/plain": [
       "       Date   Open   High    Low  Close  Adj Close  Volume\n",
       "0     False  False  False  False  False      False   False\n",
       "1     False  False  False  False  False      False   False\n",
       "2     False  False  False  False  False      False   False\n",
       "3     False  False  False  False  False      False   False\n",
       "4     False  False  False  False  False      False   False\n",
       "...     ...    ...    ...    ...    ...        ...     ...\n",
       "2511  False  False  False  False  False      False   False\n",
       "2512  False  False  False  False  False      False   False\n",
       "2513  False  False  False  False  False      False   False\n",
       "2514  False  False  False  False  False      False   False\n",
       "2515  False  False  False  False  False      False   False\n",
       "\n",
       "[2516 rows x 7 columns]"
      ]
     },
     "execution_count": 239,
     "metadata": {},
     "output_type": "execute_result"
    }
   ],
   "source": [
    "df_null = df.isnull()\n",
    "df_null"
   ]
  },
  {
   "cell_type": "code",
   "execution_count": 240,
   "id": "a334a1d1",
   "metadata": {},
   "outputs": [
    {
     "data": {
      "text/plain": [
       "Date         0\n",
       "Open         0\n",
       "High         0\n",
       "Low          0\n",
       "Close        0\n",
       "Adj Close    0\n",
       "Volume       0\n",
       "dtype: int64"
      ]
     },
     "execution_count": 240,
     "metadata": {},
     "output_type": "execute_result"
    }
   ],
   "source": [
    "df_null.sum()"
   ]
  },
  {
   "cell_type": "markdown",
   "id": "13eb0933",
   "metadata": {},
   "source": [
    "## STEP 3 - Splitting the data"
   ]
  },
  {
   "cell_type": "code",
   "execution_count": 241,
   "id": "fd128a3f",
   "metadata": {},
   "outputs": [],
   "source": [
    "training_set = df.iloc[:1500, 1:2].values\n",
    "test_set = df.iloc[1500:, 1:2].values"
   ]
  },
  {
   "cell_type": "code",
   "execution_count": 242,
   "id": "82a1c360",
   "metadata": {},
   "outputs": [
    {
     "name": "stdout",
     "output_type": "stream",
     "text": [
      "[[ 5.7     ]\n",
      " [ 5.814   ]\n",
      " [ 5.804   ]\n",
      " ...\n",
      " [73.524002]\n",
      " [76.218002]\n",
      " [74.5     ]]\n"
     ]
    }
   ],
   "source": [
    "print(training_set)"
   ]
  },
  {
   "cell_type": "code",
   "execution_count": 243,
   "id": "f83a2f8b",
   "metadata": {},
   "outputs": [
    {
     "name": "stdout",
     "output_type": "stream",
     "text": [
      "(1500, 1)\n"
     ]
    }
   ],
   "source": [
    "print(training_set.shape)"
   ]
  },
  {
   "cell_type": "code",
   "execution_count": 244,
   "id": "fe28dade",
   "metadata": {},
   "outputs": [
    {
     "name": "stdout",
     "output_type": "stream",
     "text": [
      "[[ 75.596001]\n",
      " [ 75.      ]\n",
      " [ 75.334   ]\n",
      " ...\n",
      " [689.580017]\n",
      " [671.640015]\n",
      " [684.650024]]\n"
     ]
    }
   ],
   "source": [
    "print(test_set)"
   ]
  },
  {
   "cell_type": "code",
   "execution_count": 245,
   "id": "cf57acd9",
   "metadata": {},
   "outputs": [
    {
     "name": "stdout",
     "output_type": "stream",
     "text": [
      "(1016, 1)\n"
     ]
    }
   ],
   "source": [
    "print(test_set.shape)"
   ]
  },
  {
   "cell_type": "markdown",
   "id": "580f5f2e",
   "metadata": {},
   "source": [
    "## STEP 4 - Normalizing the data"
   ]
  },
  {
   "cell_type": "code",
   "execution_count": 246,
   "id": "125bf01e",
   "metadata": {},
   "outputs": [],
   "source": [
    "# Let’s build the input features with a time lag of 1 day (lag 1)\n",
    "\n",
    "# Feature Scaling\n",
    "sc = MinMaxScaler(feature_range = (0, 1))\n",
    "training_set_scaled = sc.fit_transform(training_set)\n",
    "\n",
    "# Creating a data structure with 60 time-steps and 1 output\n",
    "X_train = []\n",
    "Y_train = []\n",
    "for i in range(60, 1500):\n",
    "    X_train.append(training_set_scaled[i-60:i, 0])\n",
    "    Y_train.append(training_set_scaled[i, 0])\n",
    "X_train = np.array(X_train)\n",
    "Y_train = np.array(Y_train)\n",
    "X_train = np.reshape(X_train, (X_train.shape[0], X_train.shape[1], 1))\n",
    "\n",
    "# We have now reshaped the data into the following format: (values, time-steps, 1-dimensional output)"
   ]
  },
  {
   "cell_type": "code",
   "execution_count": 247,
   "id": "d3b612ee",
   "metadata": {},
   "outputs": [
    {
     "name": "stdout",
     "output_type": "stream",
     "text": [
      "[[[0.01829268]\n",
      "  [0.01987972]\n",
      "  [0.01974051]\n",
      "  ...\n",
      "  [0.01119278]\n",
      "  [0.01032966]\n",
      "  [0.00991202]]\n",
      "\n",
      " [[0.01987972]\n",
      "  [0.01974051]\n",
      "  [0.02007462]\n",
      "  ...\n",
      "  [0.01032966]\n",
      "  [0.00991202]\n",
      "  [0.01277982]]\n",
      "\n",
      " [[0.01974051]\n",
      "  [0.02007462]\n",
      "  [0.02007462]\n",
      "  ...\n",
      "  [0.00991202]\n",
      "  [0.01277982]\n",
      "  [0.011332  ]]\n",
      "\n",
      " ...\n",
      "\n",
      " [[0.67398928]\n",
      "  [0.66452274]\n",
      "  [0.67073172]\n",
      "  ...\n",
      "  [0.95172066]\n",
      "  [0.9814289 ]\n",
      "  [0.93568323]]\n",
      "\n",
      " [[0.66452274]\n",
      "  [0.67073172]\n",
      "  [0.63935292]\n",
      "  ...\n",
      "  [0.9814289 ]\n",
      "  [0.93568323]\n",
      "  [0.96249582]]\n",
      "\n",
      " [[0.67073172]\n",
      "  [0.63935292]\n",
      "  [0.65001667]\n",
      "  ...\n",
      "  [0.93568323]\n",
      "  [0.96249582]\n",
      "  [1.        ]]]\n"
     ]
    }
   ],
   "source": [
    "print(X_train)"
   ]
  },
  {
   "cell_type": "code",
   "execution_count": 248,
   "id": "c15c4dc3",
   "metadata": {},
   "outputs": [
    {
     "name": "stdout",
     "output_type": "stream",
     "text": [
      "(1440, 60, 1)\n"
     ]
    }
   ],
   "source": [
    "print(X_train.shape)"
   ]
  },
  {
   "cell_type": "code",
   "execution_count": 249,
   "id": "c1d85556",
   "metadata": {},
   "outputs": [
    {
     "name": "stdout",
     "output_type": "stream",
     "text": [
      "[0.01277982 0.011332   0.011332   ... 0.96249582 1.         0.97608306]\n"
     ]
    }
   ],
   "source": [
    "print(Y_train)"
   ]
  },
  {
   "cell_type": "code",
   "execution_count": 250,
   "id": "6a8f045d",
   "metadata": {},
   "outputs": [
    {
     "name": "stdout",
     "output_type": "stream",
     "text": [
      "(1440,)\n"
     ]
    }
   ],
   "source": [
    "print(Y_train.shape)"
   ]
  },
  {
   "cell_type": "markdown",
   "id": "a10b0674",
   "metadata": {},
   "source": [
    "## STEP 5 - Building the LSTM model"
   ]
  },
  {
   "cell_type": "code",
   "execution_count": 251,
   "id": "def47770",
   "metadata": {},
   "outputs": [],
   "source": [
    "# Building the LSTM with 50 neurons and 4 hidden layers. \n",
    "# Then assigning 1 neuron in the output layer for predicting the normalized stock price.\n",
    "# Using the MSE loss function and the Adam stochastic gradient descent optimizer.\n",
    "\n",
    "model = Sequential()\n",
    "\n",
    "model.add(LSTM(units = 50, return_sequences = True, input_shape = (X_train.shape[1], 1)))\n",
    "model.add(Dropout(0.2))\n",
    "\n",
    "model.add(LSTM(units = 50, return_sequences = True))\n",
    "model.add(Dropout(0.2))\n",
    "\n",
    "model.add(LSTM(units = 50, return_sequences = True))\n",
    "model.add(Dropout(0.2))\n",
    "\n",
    "model.add(LSTM(units = 50))\n",
    "model.add(Dropout(0.2))\n",
    "\n",
    "model.add(Dense(units = 1))\n",
    "\n",
    "model.compile(optimizer = 'adam', loss = 'mean_squared_error')"
   ]
  },
  {
   "cell_type": "code",
   "execution_count": 252,
   "id": "a95e852f",
   "metadata": {},
   "outputs": [
    {
     "name": "stdout",
     "output_type": "stream",
     "text": [
      "Epoch 1/100\n",
      "45/45 [==============================] - 5s 16ms/step - loss: 0.0302\n",
      "Epoch 2/100\n",
      "45/45 [==============================] - 1s 14ms/step - loss: 0.0051\n",
      "Epoch 3/100\n",
      "45/45 [==============================] - 1s 14ms/step - loss: 0.0048\n",
      "Epoch 4/100\n",
      "45/45 [==============================] - 1s 14ms/step - loss: 0.0038\n",
      "Epoch 5/100\n",
      "45/45 [==============================] - 1s 14ms/step - loss: 0.0037\n",
      "Epoch 6/100\n",
      "45/45 [==============================] - 1s 14ms/step - loss: 0.0041\n",
      "Epoch 7/100\n",
      "45/45 [==============================] - 1s 14ms/step - loss: 0.0038\n",
      "Epoch 8/100\n",
      "45/45 [==============================] - 1s 14ms/step - loss: 0.0041\n",
      "Epoch 9/100\n",
      "45/45 [==============================] - 1s 14ms/step - loss: 0.0034\n",
      "Epoch 10/100\n",
      "45/45 [==============================] - 1s 14ms/step - loss: 0.0031\n",
      "Epoch 11/100\n",
      "45/45 [==============================] - 1s 14ms/step - loss: 0.0041\n",
      "Epoch 12/100\n",
      "45/45 [==============================] - 1s 14ms/step - loss: 0.0030\n",
      "Epoch 13/100\n",
      "45/45 [==============================] - 1s 14ms/step - loss: 0.0027\n",
      "Epoch 14/100\n",
      "45/45 [==============================] - 1s 14ms/step - loss: 0.0029\n",
      "Epoch 15/100\n",
      "45/45 [==============================] - 1s 14ms/step - loss: 0.0032\n",
      "Epoch 16/100\n",
      "45/45 [==============================] - 1s 14ms/step - loss: 0.0027\n",
      "Epoch 17/100\n",
      "45/45 [==============================] - 1s 14ms/step - loss: 0.0025\n",
      "Epoch 18/100\n",
      "45/45 [==============================] - 1s 14ms/step - loss: 0.0023\n",
      "Epoch 19/100\n",
      "45/45 [==============================] - 1s 14ms/step - loss: 0.0024\n",
      "Epoch 20/100\n",
      "45/45 [==============================] - 1s 14ms/step - loss: 0.0024\n",
      "Epoch 21/100\n",
      "45/45 [==============================] - 1s 14ms/step - loss: 0.0027\n",
      "Epoch 22/100\n",
      "45/45 [==============================] - 1s 14ms/step - loss: 0.0025\n",
      "Epoch 23/100\n",
      "45/45 [==============================] - 1s 14ms/step - loss: 0.0026\n",
      "Epoch 24/100\n",
      "45/45 [==============================] - 1s 14ms/step - loss: 0.0021\n",
      "Epoch 25/100\n",
      "45/45 [==============================] - 1s 14ms/step - loss: 0.0021\n",
      "Epoch 26/100\n",
      "45/45 [==============================] - 1s 15ms/step - loss: 0.0022\n",
      "Epoch 27/100\n",
      "45/45 [==============================] - 1s 15ms/step - loss: 0.0020\n",
      "Epoch 28/100\n",
      "45/45 [==============================] - 1s 15ms/step - loss: 0.0019\n",
      "Epoch 29/100\n",
      "45/45 [==============================] - 1s 15ms/step - loss: 0.0022\n",
      "Epoch 30/100\n",
      "45/45 [==============================] - 1s 15ms/step - loss: 0.0019\n",
      "Epoch 31/100\n",
      "45/45 [==============================] - 1s 15ms/step - loss: 0.0018\n",
      "Epoch 32/100\n",
      "45/45 [==============================] - 1s 14ms/step - loss: 0.0019\n",
      "Epoch 33/100\n",
      "45/45 [==============================] - 1s 14ms/step - loss: 0.0020\n",
      "Epoch 34/100\n",
      "45/45 [==============================] - 1s 14ms/step - loss: 0.0018\n",
      "Epoch 35/100\n",
      "45/45 [==============================] - 1s 15ms/step - loss: 0.0019\n",
      "Epoch 36/100\n",
      "45/45 [==============================] - 1s 14ms/step - loss: 0.0020\n",
      "Epoch 37/100\n",
      "45/45 [==============================] - 1s 15ms/step - loss: 0.0018\n",
      "Epoch 38/100\n",
      "45/45 [==============================] - 1s 14ms/step - loss: 0.0016\n",
      "Epoch 39/100\n",
      "45/45 [==============================] - 1s 15ms/step - loss: 0.0019: 0s - lo\n",
      "Epoch 40/100\n",
      "45/45 [==============================] - 1s 14ms/step - loss: 0.0019\n",
      "Epoch 41/100\n",
      "45/45 [==============================] - 1s 14ms/step - loss: 0.0017\n",
      "Epoch 42/100\n",
      "45/45 [==============================] - 1s 14ms/step - loss: 0.0015\n",
      "Epoch 43/100\n",
      "45/45 [==============================] - 1s 13ms/step - loss: 0.0018\n",
      "Epoch 44/100\n",
      "45/45 [==============================] - 1s 14ms/step - loss: 0.0016\n",
      "Epoch 45/100\n",
      "45/45 [==============================] - 1s 14ms/step - loss: 0.0015\n",
      "Epoch 46/100\n",
      "45/45 [==============================] - 1s 14ms/step - loss: 0.0016\n",
      "Epoch 47/100\n",
      "45/45 [==============================] - 1s 14ms/step - loss: 0.0016\n",
      "Epoch 48/100\n",
      "45/45 [==============================] - 1s 14ms/step - loss: 0.0014\n",
      "Epoch 49/100\n",
      "45/45 [==============================] - 1s 29ms/step - loss: 0.0015\n",
      "Epoch 50/100\n",
      "45/45 [==============================] - 1s 16ms/step - loss: 0.0016\n",
      "Epoch 51/100\n",
      "45/45 [==============================] - 1s 14ms/step - loss: 0.0014\n",
      "Epoch 52/100\n",
      "45/45 [==============================] - 1s 19ms/step - loss: 0.0014\n",
      "Epoch 53/100\n",
      "45/45 [==============================] - 1s 20ms/step - loss: 0.0014\n",
      "Epoch 54/100\n",
      "45/45 [==============================] - 1s 20ms/step - loss: 0.0014\n",
      "Epoch 55/100\n",
      "45/45 [==============================] - 1s 19ms/step - loss: 0.0014\n",
      "Epoch 56/100\n",
      "45/45 [==============================] - 1s 20ms/step - loss: 0.0014\n",
      "Epoch 57/100\n",
      "45/45 [==============================] - 1s 20ms/step - loss: 0.0015\n",
      "Epoch 58/100\n",
      "45/45 [==============================] - 1s 20ms/step - loss: 0.0016\n",
      "Epoch 59/100\n",
      "45/45 [==============================] - 1s 20ms/step - loss: 0.0015\n",
      "Epoch 60/100\n",
      "45/45 [==============================] - 1s 20ms/step - loss: 0.0013\n",
      "Epoch 61/100\n",
      "45/45 [==============================] - 1s 20ms/step - loss: 0.0012\n",
      "Epoch 62/100\n",
      "45/45 [==============================] - 1s 20ms/step - loss: 0.0012\n",
      "Epoch 63/100\n",
      "45/45 [==============================] - 1s 20ms/step - loss: 0.0012\n",
      "Epoch 64/100\n",
      "45/45 [==============================] - 1s 20ms/step - loss: 0.0013\n",
      "Epoch 65/100\n",
      "45/45 [==============================] - 1s 20ms/step - loss: 0.0014\n",
      "Epoch 66/100\n",
      "45/45 [==============================] - 1s 20ms/step - loss: 0.0012\n",
      "Epoch 67/100\n",
      "45/45 [==============================] - 1s 21ms/step - loss: 0.0013\n",
      "Epoch 68/100\n",
      "45/45 [==============================] - 1s 20ms/step - loss: 0.0013\n",
      "Epoch 69/100\n",
      "45/45 [==============================] - 1s 20ms/step - loss: 0.0013\n",
      "Epoch 70/100\n",
      "45/45 [==============================] - 1s 21ms/step - loss: 0.0013\n",
      "Epoch 71/100\n",
      "45/45 [==============================] - 1s 20ms/step - loss: 0.0013\n",
      "Epoch 72/100\n",
      "45/45 [==============================] - 1s 21ms/step - loss: 0.0013\n",
      "Epoch 73/100\n",
      "45/45 [==============================] - 1s 21ms/step - loss: 0.0013\n",
      "Epoch 74/100\n",
      "45/45 [==============================] - 1s 22ms/step - loss: 0.0011\n",
      "Epoch 75/100\n",
      "45/45 [==============================] - 1s 20ms/step - loss: 0.0012\n",
      "Epoch 76/100\n",
      "45/45 [==============================] - 1s 20ms/step - loss: 0.0013\n",
      "Epoch 77/100\n",
      "45/45 [==============================] - 1s 21ms/step - loss: 0.0013\n",
      "Epoch 78/100\n",
      "45/45 [==============================] - 1s 20ms/step - loss: 0.0012\n",
      "Epoch 79/100\n",
      "45/45 [==============================] - 1s 21ms/step - loss: 0.0011\n",
      "Epoch 80/100\n",
      "45/45 [==============================] - 1s 20ms/step - loss: 0.0011\n",
      "Epoch 81/100\n",
      "45/45 [==============================] - 1s 21ms/step - loss: 0.0011\n",
      "Epoch 82/100\n",
      "45/45 [==============================] - 1s 21ms/step - loss: 0.0012\n",
      "Epoch 83/100\n",
      "45/45 [==============================] - 1s 21ms/step - loss: 0.0011\n",
      "Epoch 84/100\n",
      "45/45 [==============================] - 1s 21ms/step - loss: 0.0011\n",
      "Epoch 85/100\n",
      "45/45 [==============================] - 1s 21ms/step - loss: 0.0011\n",
      "Epoch 86/100\n",
      "45/45 [==============================] - 1s 21ms/step - loss: 9.9898e-04\n",
      "Epoch 87/100\n",
      "45/45 [==============================] - 1s 20ms/step - loss: 0.0011\n",
      "Epoch 88/100\n",
      "45/45 [==============================] - 1s 21ms/step - loss: 0.0011\n",
      "Epoch 89/100\n",
      "45/45 [==============================] - 1s 20ms/step - loss: 0.0012\n",
      "Epoch 90/100\n",
      "45/45 [==============================] - 1s 20ms/step - loss: 9.3909e-04\n",
      "Epoch 91/100\n",
      "45/45 [==============================] - 1s 20ms/step - loss: 0.0011\n",
      "Epoch 92/100\n",
      "45/45 [==============================] - 1s 20ms/step - loss: 0.0010\n",
      "Epoch 93/100\n",
      "45/45 [==============================] - 1s 21ms/step - loss: 0.0010 ETA: 0s - \n",
      "Epoch 94/100\n",
      "45/45 [==============================] - 1s 20ms/step - loss: 9.8149e-04\n",
      "Epoch 95/100\n",
      "45/45 [==============================] - 1s 20ms/step - loss: 0.0010\n",
      "Epoch 96/100\n",
      "45/45 [==============================] - 1s 20ms/step - loss: 0.0010\n",
      "Epoch 97/100\n",
      "45/45 [==============================] - 1s 20ms/step - loss: 0.0010\n",
      "Epoch 98/100\n",
      "45/45 [==============================] - 1s 20ms/step - loss: 0.0011\n",
      "Epoch 99/100\n",
      "45/45 [==============================] - 1s 20ms/step - loss: 0.0010\n",
      "Epoch 100/100\n"
     ]
    },
    {
     "name": "stdout",
     "output_type": "stream",
     "text": [
      "45/45 [==============================] - 1s 20ms/step - loss: 9.9024e-04\n"
     ]
    }
   ],
   "source": [
    "history = model.fit(X_train, Y_train, epochs = 100, batch_size = 32)"
   ]
  },
  {
   "cell_type": "code",
   "execution_count": 253,
   "id": "e8d889ca",
   "metadata": {},
   "outputs": [
    {
     "name": "stdout",
     "output_type": "stream",
     "text": [
      "Model: \"sequential_7\"\n",
      "_________________________________________________________________\n",
      "Layer (type)                 Output Shape              Param #   \n",
      "=================================================================\n",
      "lstm_28 (LSTM)               (None, 60, 50)            10400     \n",
      "_________________________________________________________________\n",
      "dropout_28 (Dropout)         (None, 60, 50)            0         \n",
      "_________________________________________________________________\n",
      "lstm_29 (LSTM)               (None, 60, 50)            20200     \n",
      "_________________________________________________________________\n",
      "dropout_29 (Dropout)         (None, 60, 50)            0         \n",
      "_________________________________________________________________\n",
      "lstm_30 (LSTM)               (None, 60, 50)            20200     \n",
      "_________________________________________________________________\n",
      "dropout_30 (Dropout)         (None, 60, 50)            0         \n",
      "_________________________________________________________________\n",
      "lstm_31 (LSTM)               (None, 50)                20200     \n",
      "_________________________________________________________________\n",
      "dropout_31 (Dropout)         (None, 50)                0         \n",
      "_________________________________________________________________\n",
      "dense_7 (Dense)              (None, 1)                 51        \n",
      "=================================================================\n",
      "Total params: 71,051\n",
      "Trainable params: 71,051\n",
      "Non-trainable params: 0\n",
      "_________________________________________________________________\n"
     ]
    }
   ],
   "source": [
    "model.summary()"
   ]
  },
  {
   "cell_type": "code",
   "execution_count": 254,
   "id": "36cb0877",
   "metadata": {},
   "outputs": [
    {
     "name": "stdout",
     "output_type": "stream",
     "text": [
      "dict_keys(['loss'])\n"
     ]
    }
   ],
   "source": [
    "print(history.history.keys())"
   ]
  },
  {
   "cell_type": "code",
   "execution_count": 265,
   "id": "c27e46aa",
   "metadata": {},
   "outputs": [
    {
     "data": {
      "text/plain": [
       "<matplotlib.legend.Legend at 0x1260c91c6d0>"
      ]
     },
     "execution_count": 265,
     "metadata": {},
     "output_type": "execute_result"
    },
    {
     "data": {
      "image/png": "[encoded data removed]",
      "text/plain": [
       "<Figure size 1440x1080 with 1 Axes>"
      ]
     },
     "metadata": {},
     "output_type": "display_data"
    }
   ],
   "source": [
    "# Plotting Model Loss vs Epochs\n",
    "sns.set_style(\"whitegrid\")\n",
    "sns.set_context('paper', font_scale = 2.0)\n",
    "plot(history.history['loss'])\n",
    "title('Model Loss')\n",
    "ylabel('Loss')\n",
    "xlabel('Epoch')\n",
    "legend(['train_loss'], loc='upper right')"
   ]
  },
  {
   "cell_type": "markdown",
   "id": "5d260c38",
   "metadata": {},
   "source": [
    "## STEP 6 - Preparing the Test data"
   ]
  },
  {
   "cell_type": "code",
   "execution_count": 261,
   "id": "a9208edf",
   "metadata": {},
   "outputs": [
    {
     "name": "stdout",
     "output_type": "stream",
     "text": [
      "Length of total_dataset:  2516\n",
      "Length of train_dataset:  1500\n",
      "Length of test_dataset:  1016\n"
     ]
    }
   ],
   "source": [
    "train_dataset = df.iloc[:1500, 1:2]\n",
    "test_dataset = df.iloc[1500:, 1:2]\n",
    "total_dataset = pd.concat((train_dataset, test_dataset), axis = 0)\n",
    "\n",
    "print(\"Length of total_dataset: \", len(total_dataset))\n",
    "print(\"Length of train_dataset: \", len(train_dataset))\n",
    "print(\"Length of test_dataset: \", len(test_dataset))"
   ]
  },
  {
   "cell_type": "code",
   "execution_count": 262,
   "id": "2a3a996b",
   "metadata": {},
   "outputs": [
    {
     "name": "stdout",
     "output_type": "stream",
     "text": [
      "(1016, 60, 1)\n"
     ]
    }
   ],
   "source": [
    "inputs = dataset_total[len(total_dataset) - len(test_dataset) - 60:].values\n",
    "inputs = inputs.reshape(-1,1)\n",
    "inputs = sc.transform(inputs)\n",
    "\n",
    "X_test = []\n",
    "for i in range(60, 1076):\n",
    "    X_test.append(inputs[i-60:i, 0])\n",
    "X_test = np.array(X_test)\n",
    "X_test = np.reshape(X_test, (X_test.shape[0], X_test.shape[1], 1))\n",
    "\n",
    "print(X_test.shape)"
   ]
  },
  {
   "cell_type": "markdown",
   "id": "e160de1d",
   "metadata": {},
   "source": [
    "## STEP 7 - Testing the model"
   ]
  },
  {
   "cell_type": "code",
   "execution_count": 267,
   "id": "2602d36f",
   "metadata": {},
   "outputs": [],
   "source": [
    "predicted_stock_price = model.predict(X_test)\n",
    "predicted_stock_price = sc.inverse_transform(predicted_stock_price)"
   ]
  },
  {
   "cell_type": "code",
   "execution_count": 268,
   "id": "c9ac5772",
   "metadata": {},
   "outputs": [
    {
     "name": "stdout",
     "output_type": "stream",
     "text": [
      "Mean Absolute Error (MAE): 67.804472\n",
      "Mean Squared Error (MSE): 23007.364548\n",
      "Root Mean Squared Error (MSE): 151.681787\n",
      "Mean Forecast Error (MFE) or Forecast Bias: 66.861916\n"
     ]
    }
   ],
   "source": [
    "mae = mean_absolute_error(test_dataset.values, predicted_stock_price)\n",
    "print(\"Mean Absolute Error (MAE): %f\" % mae)\n",
    "\n",
    "mse = mean_squared_error(test_dataset.values, predicted_stock_price)\n",
    "print(\"Mean Squared Error (MSE): %f\" % mse)\n",
    "\n",
    "rmse = mean_squared_error(test_dataset.values, predicted_stock_price)\n",
    "print(\"Root Mean Squared Error (MSE): %f\" % sqrt(mse))\n",
    "\n",
    "fe = [test_dataset.values[i]-predicted_stock_price[i] for i in range(len(test_dataset.values))]\n",
    "mfe = mean(fe)\n",
    "print('Mean Forecast Error (MFE) or Forecast Bias: %f' % mfe)"
   ]
  },
  {
   "cell_type": "code",
   "execution_count": 269,
   "id": "b15ebbe3",
   "metadata": {},
   "outputs": [
    {
     "data": {
      "text/plain": [
       "<matplotlib.legend.Legend at 0x1260c9976a0>"
      ]
     },
     "execution_count": 269,
     "metadata": {},
     "output_type": "execute_result"
    },
    {
     "data": {
      "image/png": "[encoded data removed]",
      "text/plain": [
       "<Figure size 2000x1500 with 1 Axes>"
      ]
     },
     "metadata": {},
     "output_type": "display_data"
    }
   ],
   "source": [
    "# Visualising the results\n",
    "sns.set_style(\"whitegrid\")\n",
    "sns.set_context('paper', font_scale = 0.8)\n",
    "fig = plt.figure(figsize(20,15), dpi=100)\n",
    "plt.plot(df.loc[1500:, 'Date'],test_dataset.values, color = 'red', label = 'Actual TESLA Stock Price')\n",
    "plt.plot(df.loc[1500:, 'Date'],predicted_stock_price, color = 'blue', label = 'Predicted TESLA Stock Price')\n",
    "plt.xticks(np.arange(0,1016,50))\n",
    "plt.title('TESLA Stock Price Prediction', fontsize = 40)\n",
    "plt.xlabel('Time', fontsize = 20)\n",
    "plt.ylabel('TESLA Stock Price', fontsize = 20)\n",
    "plt.legend( prop={'size': 20})"
   ]
  },
  {
   "cell_type": "code",
   "execution_count": null,
   "id": "e3e654e5",
   "metadata": {},
   "outputs": [],
   "source": []
  }
 ],
 "metadata": {
  "kernelspec": {
   "display_name": "Python 3",
   "language": "python",
   "name": "python3"
  },
  "language_info": {
   "codemirror_mode": {
    "name": "ipython",
    "version": 3
   },
   "file_extension": ".py",
   "mimetype": "text/x-python",
   "name": "python",
   "nbconvert_exporter": "python",
   "pygments_lexer": "ipython3",
   "version": "3.8.8"
  }
 },
 "nbformat": 4,
 "nbformat_minor": 5
}
